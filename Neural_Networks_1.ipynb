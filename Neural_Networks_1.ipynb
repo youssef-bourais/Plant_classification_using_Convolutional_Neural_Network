{
  "nbformat": 4,
  "nbformat_minor": 0,
  "metadata": {
    "colab": {
      "name": "Neural_Networks_1.ipynb",
      "provenance": [],
      "collapsed_sections": [],
      "authorship_tag": "ABX9TyOwJtSPNmPV6gNWqZ0lPIC1",
      "include_colab_link": true
    },
    "kernelspec": {
      "name": "python3",
      "display_name": "Python 3"
    },
    "language_info": {
      "name": "python"
    }
  },
  "cells": [
    {
      "cell_type": "markdown",
      "metadata": {
        "id": "view-in-github",
        "colab_type": "text"
      },
      "source": [
        "<a href=\"https://colab.research.google.com/github/youssefbourais0310/Neural_Networks/blob/main/Neural_Networks_1.ipynb\" target=\"_parent\"><img src=\"https://colab.research.google.com/assets/colab-badge.svg\" alt=\"Open In Colab\"/></a>"
      ]
    },
    {
      "cell_type": "markdown",
      "source": [
        "Creates a simple layer of neurons, with 4 inputs"
      ],
      "metadata": {
        "id": "RirkXjJxkN5w"
      }
    },
    {
      "cell_type": "code",
      "source": [
        "inputs =  [1, 2, 3, 2.5]\n",
        "wieghts = [0.2, 0.8, -0.5, 1.0]\n",
        "bias = 2\n",
        "\n",
        "output = inputs[0]*wieghts[0] + inputs[1]*wieghts[1] + inputs[2]*wieghts[2] + inputs[3]*wieghts[3] +bias\n",
        "print(output)"
      ],
      "metadata": {
        "colab": {
          "base_uri": "https://localhost:8080/"
        },
        "id": "-FLqit5FkbQq",
        "outputId": "efe0738c-2f6a-4951-83fd-94eb15692548"
      },
      "execution_count": 1,
      "outputs": [
        {
          "output_type": "stream",
          "name": "stdout",
          "text": [
            "4.8\n"
          ]
        }
      ]
    },
    {
      "cell_type": "markdown",
      "source": [
        "Creates a simple layer of 3 neurons, with 4 inputs"
      ],
      "metadata": {
        "id": "aDbwm8_Ul7R7"
      }
    },
    {
      "cell_type": "code",
      "source": [
        "inputs =  [1, 2, 3, 2.5]\n",
        "wieghts1 = [0.2, 0.8, -0.5, 1.0]\n",
        "wieghts2 = [0.5, -0.91, 0.26, -0.5]\n",
        "wieghts3 = [-0.26, -0.27, 0.17, 0.87]\n",
        "bias1 = 2\n",
        "bias2 = 3\n",
        "bias3 = 0.5\n",
        "\n",
        "\n",
        "output = [[inputs[0]*wieghts1[0] + inputs[1]*wieghts1[1] + inputs[2]*wieghts1[2] + inputs[3]*wieghts1[3] +bias1],\n",
        "          [inputs[0]*wieghts2[0] + inputs[1]*wieghts2[1] + inputs[2]*wieghts2[2] + inputs[3]*wieghts2[3] +bias2],\n",
        "          [inputs[0]*wieghts3[0] + inputs[1]*wieghts3[1] + inputs[2]*wieghts3[2] + inputs[3]*wieghts3[3] +bias3]]\n",
        "print(output)"
      ],
      "metadata": {
        "colab": {
          "base_uri": "https://localhost:8080/"
        },
        "id": "MDqncqRel8sr",
        "outputId": "c8aab929-b454-4197-fbea-709db5e8db1c"
      },
      "execution_count": 2,
      "outputs": [
        {
          "output_type": "stream",
          "name": "stdout",
          "text": [
            "[[4.8], [1.21], [2.385]]\n"
          ]
        }
      ]
    },
    {
      "cell_type": "markdown",
      "source": [
        "Creates a simple layer of neurons, with 4 inputs (dynamic code)"
      ],
      "metadata": {
        "id": "m7hGVmYutx1u"
      }
    },
    {
      "cell_type": "code",
      "source": [
        "inputs =  [1, 2, 3, 2.5]\n",
        "\n",
        "weights = [[0.2, 0.8, -0.5, 1.0],\n",
        "           [0.5, -0.91, 0.26, -0.5],\n",
        "           [-0.26, -0.27, 0.17, 0.87]]\n",
        "\n",
        "biases = [2, 3, 0.5]\n",
        "\n",
        "layer_outputs = [] #output of current layer\n",
        "for neuron_weights, neuron_bias in zip(weights,biases):\n",
        "    neuron_output = 0 #output of given neuron\n",
        "    for n_input,weights in zip(inputs, neuron_weights):\n",
        "          neuron_output += n_input*weights\n",
        "    neuron_output += neuron_bias\n",
        "    layer_outputs.append(neuron_output)\n",
        "\n",
        "print(layer_outputs)\n"
      ],
      "metadata": {
        "colab": {
          "base_uri": "https://localhost:8080/"
        },
        "id": "nojioCZSqtGG",
        "outputId": "b736b34e-412a-46c8-fca4-6aa4d5edefca"
      },
      "execution_count": 3,
      "outputs": [
        {
          "output_type": "stream",
          "name": "stdout",
          "text": [
            "[4.8, 1.21, 2.385]\n"
          ]
        }
      ]
    },
    {
      "cell_type": "markdown",
      "source": [
        "Creates a simple layer of neurons, with 4 inputs using numpy"
      ],
      "metadata": {
        "id": "REa12jLp0CrQ"
      }
    },
    {
      "cell_type": "code",
      "source": [
        "import numpy as np\n",
        "\n",
        "inputs =  [1, 2, 3, 2.5]\n",
        "weights = [0.2, 0.8, -0.5, 1.0]    \n",
        "bias = 2\n",
        "\n",
        "output = np.dot(inputs, weights) + bias\n",
        "print(output)\n"
      ],
      "metadata": {
        "colab": {
          "base_uri": "https://localhost:8080/"
        },
        "id": "ZJz5M3RouAbb",
        "outputId": "39318866-9b1d-47e2-b5af-9f08f6481e2f"
      },
      "execution_count": 4,
      "outputs": [
        {
          "output_type": "stream",
          "name": "stdout",
          "text": [
            "4.8\n"
          ]
        }
      ]
    },
    {
      "cell_type": "markdown",
      "source": [
        "Creates a simple layer of 3 neurons, with 4 inputs using numpy"
      ],
      "metadata": {
        "id": "JopHk6sR0KvZ"
      }
    },
    {
      "cell_type": "code",
      "source": [
        "import numpy as np\n",
        "inputs =  [1, 2, 3, 2.5]\n",
        "\n",
        "weights = [[0.2, 0.8, -0.5, 1.0],\n",
        "           [0.5, -0.91, 0.26, -0.5],\n",
        "           [-0.26, -0.27, 0.17, 0.87]]\n",
        "\n",
        "biases = [2, 3, 0.5]\n",
        "\n",
        "output = np.dot(weights ,inputs) + biases\n",
        "print(output)"
      ],
      "metadata": {
        "colab": {
          "base_uri": "https://localhost:8080/"
        },
        "id": "mup9DCb00T2m",
        "outputId": "2e462a82-6d7a-4861-9125-74dca36736ae"
      },
      "execution_count": 5,
      "outputs": [
        {
          "output_type": "stream",
          "name": "stdout",
          "text": [
            "[4.8   1.21  2.385]\n"
          ]
        }
      ]
    },
    {
      "cell_type": "markdown",
      "source": [
        "Creates 2 layer of 3 neurons, with 4 inputs using numpy"
      ],
      "metadata": {
        "id": "16ZCKSG7C4oG"
      }
    },
    {
      "cell_type": "code",
      "source": [
        "import numpy as np\n",
        "\n",
        "inputs =  [[1, 2, 3, 2.5],\n",
        "           [2.0, 5.0, -1.0, 2.0],\n",
        "           [-1.5, 2.7, 3.3, -0.8]]\n",
        "\n",
        "weights = [[0.2, 0.8, -0.5, 1.0],\n",
        "           [0.5, -0.91, 0.26, -0.5],\n",
        "           [-0.26, -0.27, 0.17, 0.87]]\n",
        "\n",
        "biases = [2, 3, 0.5]\n",
        "\n",
        "weights2 = [[0.1, -0.14, 0.5],\n",
        "           [-0.5, 0.12, -0.33],\n",
        "           [-0.44, 0.73, -0.13]]\n",
        "\n",
        "biases2 = [-1, 2, -0.5]\n",
        "\n",
        "layer1_outputs = np.dot(inputs ,np.array(weights).T) + biases\n",
        "layer2_outputs = np.dot(layer1_outputs ,np.array(weights2).T) + biases2\n",
        "\n",
        "print(layer2_outputs)"
      ],
      "metadata": {
        "colab": {
          "base_uri": "https://localhost:8080/"
        },
        "id": "GUMjF458C2_q",
        "outputId": "1abe5a1b-4d09-4c27-a647-cfb611986e17"
      },
      "execution_count": 6,
      "outputs": [
        {
          "output_type": "stream",
          "name": "stdout",
          "text": [
            "[[ 0.5031  -1.04185 -2.03875]\n",
            " [ 0.2434  -2.7332  -5.7633 ]\n",
            " [-0.99314  1.41254 -0.35655]]\n"
          ]
        }
      ]
    },
    {
      "cell_type": "code",
      "source": [
        "import numpy as np\n",
        "\n",
        "\n",
        "X =  [[1, 2, 3, 2.5],\n",
        "     [2.0, 5.0, -1.0, 2.0],\n",
        "     [-1.5, 2.7, 3.3, -0.8]]\n",
        "     \n",
        "\n",
        "class Layer_Dense:\n",
        "  def __init__(self, n_inputs, n_neurons):\n",
        "       self.weights = 0.10*np.random.randn(n_inputs, n_neurons)\n",
        "       self.biases = np.zeros((1,n_neurons))\n",
        "  def forward(self,inputs):\n",
        "       self.output = np.dot(inputs, self.weights) + self.biases\n",
        "\n",
        "layer1 = Layer_Dense(4,5)\n",
        "layer2 = Layer_Dense(5,2)\n",
        "\n",
        "layer1.forward(X)\n",
        "#print(layer1.output)\n",
        "\n",
        "layer2.forward(layer1.output)\n",
        "print(layer2.output)"
      ],
      "metadata": {
        "colab": {
          "base_uri": "https://localhost:8080/"
        },
        "id": "3zzzYhdIlfAD",
        "outputId": "976164f9-7c10-44a5-cc45-610c800804ce"
      },
      "execution_count": 7,
      "outputs": [
        {
          "output_type": "stream",
          "name": "stdout",
          "text": [
            "[[ 0.00677106  0.05921988]\n",
            " [ 0.04648762  0.01201874]\n",
            " [ 0.07965833 -0.05214135]]\n"
          ]
        }
      ]
    }
  ]
}