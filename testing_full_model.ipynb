{
  "nbformat": 4,
  "nbformat_minor": 0,
  "metadata": {
    "colab": {
      "name": "testing_full_model.ipynb",
      "provenance": [],
      "collapsed_sections": [],
      "mount_file_id": "1aZRtnyZpXoGA4wvTGmww6avZxoUklJ25",
      "authorship_tag": "ABX9TyMKDmvuLPITX4r8JwoK1jl8",
      "include_colab_link": true
    },
    "kernelspec": {
      "name": "python3",
      "display_name": "Python 3"
    },
    "language_info": {
      "name": "python"
    }
  },
  "cells": [
    {
      "cell_type": "markdown",
      "metadata": {
        "id": "view-in-github",
        "colab_type": "text"
      },
      "source": [
        "<a href=\"https://colab.research.google.com/github/youssefbourais0310/Neural_Networks/blob/main/testing_full_model.ipynb\" target=\"_parent\"><img src=\"https://colab.research.google.com/assets/colab-badge.svg\" alt=\"Open In Colab\"/></a>"
      ]
    },
    {
      "cell_type": "code",
      "source": [
        "import os"
      ],
      "metadata": {
        "id": "puQzbW9nLM61"
      },
      "execution_count": 1,
      "outputs": []
    },
    {
      "cell_type": "code",
      "source": [
        "import pandas as pd\n",
        "df = pd.read_csv(\"/content/drive/MyDrive/project_stage/csv.csv\")\n",
        "df"
      ],
      "metadata": {
        "colab": {
          "base_uri": "https://localhost:8080/",
          "height": 424
        },
        "id": "zaestGCmNgzM",
        "outputId": "e9b9181b-ae42-433d-b748-784d784627d0"
      },
      "execution_count": 2,
      "outputs": [
        {
          "output_type": "execute_result",
          "data": {
            "text/plain": [
              "                                         id  \\\n",
              "0      f601766d-adb7-4aee-b8e9-c1693667d3f8   \n",
              "1      7f87540d-092f-4d1e-933b-10ac5bacbfac   \n",
              "2      cad9ae7b-2918-438a-a2fb-bd6abd5eb69f   \n",
              "3      9f70c3e7-1370-47c2-aa75-6c7378bccc63   \n",
              "4      52ba896b-bbd1-4456-b281-4e6d578c0c12   \n",
              "...                                     ...   \n",
              "22589  960b6c77-c800-43fb-818d-330577bef239   \n",
              "22590  97c4cad8-4ed2-446a-9c9b-9ce3656ab6d1   \n",
              "22591  c036fd80-99e5-47d6-a805-0a017cbeb199   \n",
              "22592  05eee851-dda2-4807-adec-9c32e4d1292f   \n",
              "22593  9029c188-93b5-4d85-b39a-e9403d9e5aa0   \n",
              "\n",
              "                                                   breed  \n",
              "0      Plantae_Tracheophyta_Magnoliopsida_Gentianales...  \n",
              "1      Plantae_Tracheophyta_Magnoliopsida_Gentianales...  \n",
              "2      Plantae_Tracheophyta_Magnoliopsida_Gentianales...  \n",
              "3      Plantae_Tracheophyta_Magnoliopsida_Gentianales...  \n",
              "4      Plantae_Tracheophyta_Magnoliopsida_Gentianales...  \n",
              "...                                                  ...  \n",
              "22589  Plantae_Tracheophyta_Liliopsida_Alismatales_Ar...  \n",
              "22590  Plantae_Tracheophyta_Liliopsida_Alismatales_Ar...  \n",
              "22591  Plantae_Tracheophyta_Liliopsida_Alismatales_Ar...  \n",
              "22592  Plantae_Tracheophyta_Liliopsida_Alismatales_Ar...  \n",
              "22593  Plantae_Tracheophyta_Liliopsida_Alismatales_Ar...  \n",
              "\n",
              "[22594 rows x 2 columns]"
            ],
            "text/html": [
              "\n",
              "  <div id=\"df-f03ca425-c410-4606-9897-6f87ed4d8308\">\n",
              "    <div class=\"colab-df-container\">\n",
              "      <div>\n",
              "<style scoped>\n",
              "    .dataframe tbody tr th:only-of-type {\n",
              "        vertical-align: middle;\n",
              "    }\n",
              "\n",
              "    .dataframe tbody tr th {\n",
              "        vertical-align: top;\n",
              "    }\n",
              "\n",
              "    .dataframe thead th {\n",
              "        text-align: right;\n",
              "    }\n",
              "</style>\n",
              "<table border=\"1\" class=\"dataframe\">\n",
              "  <thead>\n",
              "    <tr style=\"text-align: right;\">\n",
              "      <th></th>\n",
              "      <th>id</th>\n",
              "      <th>breed</th>\n",
              "    </tr>\n",
              "  </thead>\n",
              "  <tbody>\n",
              "    <tr>\n",
              "      <th>0</th>\n",
              "      <td>f601766d-adb7-4aee-b8e9-c1693667d3f8</td>\n",
              "      <td>Plantae_Tracheophyta_Magnoliopsida_Gentianales...</td>\n",
              "    </tr>\n",
              "    <tr>\n",
              "      <th>1</th>\n",
              "      <td>7f87540d-092f-4d1e-933b-10ac5bacbfac</td>\n",
              "      <td>Plantae_Tracheophyta_Magnoliopsida_Gentianales...</td>\n",
              "    </tr>\n",
              "    <tr>\n",
              "      <th>2</th>\n",
              "      <td>cad9ae7b-2918-438a-a2fb-bd6abd5eb69f</td>\n",
              "      <td>Plantae_Tracheophyta_Magnoliopsida_Gentianales...</td>\n",
              "    </tr>\n",
              "    <tr>\n",
              "      <th>3</th>\n",
              "      <td>9f70c3e7-1370-47c2-aa75-6c7378bccc63</td>\n",
              "      <td>Plantae_Tracheophyta_Magnoliopsida_Gentianales...</td>\n",
              "    </tr>\n",
              "    <tr>\n",
              "      <th>4</th>\n",
              "      <td>52ba896b-bbd1-4456-b281-4e6d578c0c12</td>\n",
              "      <td>Plantae_Tracheophyta_Magnoliopsida_Gentianales...</td>\n",
              "    </tr>\n",
              "    <tr>\n",
              "      <th>...</th>\n",
              "      <td>...</td>\n",
              "      <td>...</td>\n",
              "    </tr>\n",
              "    <tr>\n",
              "      <th>22589</th>\n",
              "      <td>960b6c77-c800-43fb-818d-330577bef239</td>\n",
              "      <td>Plantae_Tracheophyta_Liliopsida_Alismatales_Ar...</td>\n",
              "    </tr>\n",
              "    <tr>\n",
              "      <th>22590</th>\n",
              "      <td>97c4cad8-4ed2-446a-9c9b-9ce3656ab6d1</td>\n",
              "      <td>Plantae_Tracheophyta_Liliopsida_Alismatales_Ar...</td>\n",
              "    </tr>\n",
              "    <tr>\n",
              "      <th>22591</th>\n",
              "      <td>c036fd80-99e5-47d6-a805-0a017cbeb199</td>\n",
              "      <td>Plantae_Tracheophyta_Liliopsida_Alismatales_Ar...</td>\n",
              "    </tr>\n",
              "    <tr>\n",
              "      <th>22592</th>\n",
              "      <td>05eee851-dda2-4807-adec-9c32e4d1292f</td>\n",
              "      <td>Plantae_Tracheophyta_Liliopsida_Alismatales_Ar...</td>\n",
              "    </tr>\n",
              "    <tr>\n",
              "      <th>22593</th>\n",
              "      <td>9029c188-93b5-4d85-b39a-e9403d9e5aa0</td>\n",
              "      <td>Plantae_Tracheophyta_Liliopsida_Alismatales_Ar...</td>\n",
              "    </tr>\n",
              "  </tbody>\n",
              "</table>\n",
              "<p>22594 rows × 2 columns</p>\n",
              "</div>\n",
              "      <button class=\"colab-df-convert\" onclick=\"convertToInteractive('df-f03ca425-c410-4606-9897-6f87ed4d8308')\"\n",
              "              title=\"Convert this dataframe to an interactive table.\"\n",
              "              style=\"display:none;\">\n",
              "        \n",
              "  <svg xmlns=\"http://www.w3.org/2000/svg\" height=\"24px\"viewBox=\"0 0 24 24\"\n",
              "       width=\"24px\">\n",
              "    <path d=\"M0 0h24v24H0V0z\" fill=\"none\"/>\n",
              "    <path d=\"M18.56 5.44l.94 2.06.94-2.06 2.06-.94-2.06-.94-.94-2.06-.94 2.06-2.06.94zm-11 1L8.5 8.5l.94-2.06 2.06-.94-2.06-.94L8.5 2.5l-.94 2.06-2.06.94zm10 10l.94 2.06.94-2.06 2.06-.94-2.06-.94-.94-2.06-.94 2.06-2.06.94z\"/><path d=\"M17.41 7.96l-1.37-1.37c-.4-.4-.92-.59-1.43-.59-.52 0-1.04.2-1.43.59L10.3 9.45l-7.72 7.72c-.78.78-.78 2.05 0 2.83L4 21.41c.39.39.9.59 1.41.59.51 0 1.02-.2 1.41-.59l7.78-7.78 2.81-2.81c.8-.78.8-2.07 0-2.86zM5.41 20L4 18.59l7.72-7.72 1.47 1.35L5.41 20z\"/>\n",
              "  </svg>\n",
              "      </button>\n",
              "      \n",
              "  <style>\n",
              "    .colab-df-container {\n",
              "      display:flex;\n",
              "      flex-wrap:wrap;\n",
              "      gap: 12px;\n",
              "    }\n",
              "\n",
              "    .colab-df-convert {\n",
              "      background-color: #E8F0FE;\n",
              "      border: none;\n",
              "      border-radius: 50%;\n",
              "      cursor: pointer;\n",
              "      display: none;\n",
              "      fill: #1967D2;\n",
              "      height: 32px;\n",
              "      padding: 0 0 0 0;\n",
              "      width: 32px;\n",
              "    }\n",
              "\n",
              "    .colab-df-convert:hover {\n",
              "      background-color: #E2EBFA;\n",
              "      box-shadow: 0px 1px 2px rgba(60, 64, 67, 0.3), 0px 1px 3px 1px rgba(60, 64, 67, 0.15);\n",
              "      fill: #174EA6;\n",
              "    }\n",
              "\n",
              "    [theme=dark] .colab-df-convert {\n",
              "      background-color: #3B4455;\n",
              "      fill: #D2E3FC;\n",
              "    }\n",
              "\n",
              "    [theme=dark] .colab-df-convert:hover {\n",
              "      background-color: #434B5C;\n",
              "      box-shadow: 0px 1px 3px 1px rgba(0, 0, 0, 0.15);\n",
              "      filter: drop-shadow(0px 1px 2px rgba(0, 0, 0, 0.3));\n",
              "      fill: #FFFFFF;\n",
              "    }\n",
              "  </style>\n",
              "\n",
              "      <script>\n",
              "        const buttonEl =\n",
              "          document.querySelector('#df-f03ca425-c410-4606-9897-6f87ed4d8308 button.colab-df-convert');\n",
              "        buttonEl.style.display =\n",
              "          google.colab.kernel.accessAllowed ? 'block' : 'none';\n",
              "\n",
              "        async function convertToInteractive(key) {\n",
              "          const element = document.querySelector('#df-f03ca425-c410-4606-9897-6f87ed4d8308');\n",
              "          const dataTable =\n",
              "            await google.colab.kernel.invokeFunction('convertToInteractive',\n",
              "                                                     [key], {});\n",
              "          if (!dataTable) return;\n",
              "\n",
              "          const docLinkHtml = 'Like what you see? Visit the ' +\n",
              "            '<a target=\"_blank\" href=https://colab.research.google.com/notebooks/data_table.ipynb>data table notebook</a>'\n",
              "            + ' to learn more about interactive tables.';\n",
              "          element.innerHTML = '';\n",
              "          dataTable['output_type'] = 'display_data';\n",
              "          await google.colab.output.renderOutput(dataTable, element);\n",
              "          const docLink = document.createElement('div');\n",
              "          docLink.innerHTML = docLinkHtml;\n",
              "          element.appendChild(docLink);\n",
              "        }\n",
              "      </script>\n",
              "    </div>\n",
              "  </div>\n",
              "  "
            ]
          },
          "metadata": {},
          "execution_count": 2
        }
      ]
    },
    {
      "cell_type": "code",
      "source": [
        "# checkout the lables of our data\n",
        "labels_csv = df"
      ],
      "metadata": {
        "id": "NP0dSsuZNin7"
      },
      "execution_count": 3,
      "outputs": []
    },
    {
      "cell_type": "code",
      "source": [
        "import numpy as np\n",
        "labels = labels_csv[\"breed\"].to_numpy()\n",
        "#labels = np.array(labels) #does same thing as above\n",
        "labels"
      ],
      "metadata": {
        "colab": {
          "base_uri": "https://localhost:8080/"
        },
        "id": "gaaXeUM6Niqr",
        "outputId": "b2ff5655-7c40-4f7d-a934-24057f6d5a34"
      },
      "execution_count": 4,
      "outputs": [
        {
          "output_type": "execute_result",
          "data": {
            "text/plain": [
              "array(['Plantae_Tracheophyta_Magnoliopsida_Gentianales_Apocynaceae_Nerium_oleander',\n",
              "       'Plantae_Tracheophyta_Magnoliopsida_Gentianales_Apocynaceae_Nerium_oleander',\n",
              "       'Plantae_Tracheophyta_Magnoliopsida_Gentianales_Apocynaceae_Nerium_oleander',\n",
              "       ...,\n",
              "       'Plantae_Tracheophyta_Liliopsida_Alismatales_Araceae_Monstera_deliciosa',\n",
              "       'Plantae_Tracheophyta_Liliopsida_Alismatales_Araceae_Monstera_deliciosa',\n",
              "       'Plantae_Tracheophyta_Liliopsida_Alismatales_Araceae_Monstera_deliciosa'],\n",
              "      dtype=object)"
            ]
          },
          "metadata": {},
          "execution_count": 4
        }
      ]
    },
    {
      "cell_type": "code",
      "source": [
        "# find the unique label values\n",
        "unique_breeds = np.unique(labels)\n",
        "len(unique_breeds)"
      ],
      "metadata": {
        "colab": {
          "base_uri": "https://localhost:8080/"
        },
        "id": "3dEttZy-Nith",
        "outputId": "dd3e627b-d201-40fd-9642-d9121edd126c"
      },
      "execution_count": 5,
      "outputs": [
        {
          "output_type": "execute_result",
          "data": {
            "text/plain": [
              "85"
            ]
          },
          "metadata": {},
          "execution_count": 5
        }
      ]
    },
    {
      "cell_type": "code",
      "source": [
        "unique_breeds[:10]"
      ],
      "metadata": {
        "colab": {
          "base_uri": "https://localhost:8080/"
        },
        "id": "8fPl4OvCNiwZ",
        "outputId": "1db9de95-bcd1-46e1-fcb4-26df1a46e8d1"
      },
      "execution_count": 6,
      "outputs": [
        {
          "output_type": "execute_result",
          "data": {
            "text/plain": [
              "array(['Plantae_Tracheophyta_Cycadopsida_Cycadales_Zamiaceae_Zamia_integrifolia',\n",
              "       'Plantae_Tracheophyta_Liliopsida_Alismatales_Araceae_Alocasia_odora',\n",
              "       'Plantae_Tracheophyta_Liliopsida_Alismatales_Araceae_Epipremnum_aureum',\n",
              "       'Plantae_Tracheophyta_Liliopsida_Alismatales_Araceae_Monstera_deliciosa',\n",
              "       'Plantae_Tracheophyta_Liliopsida_Alismatales_Araceae_Syngonium_podophyllum',\n",
              "       'Plantae_Tracheophyta_Liliopsida_Alismatales_Araceae_Zantedeschia_aethiopica',\n",
              "       'Plantae_Tracheophyta_Liliopsida_Arecales_Arecaceae_Chamaerops_humilis',\n",
              "       'Plantae_Tracheophyta_Liliopsida_Arecales_Arecaceae_Washingtonia_filifera',\n",
              "       'Plantae_Tracheophyta_Liliopsida_Arecales_Arecaceae_Washingtonia_robusta',\n",
              "       'Plantae_Tracheophyta_Liliopsida_Asparagales_Amaryllidaceae_Hymenocallis_littoralis'],\n",
              "      dtype=object)"
            ]
          },
          "metadata": {},
          "execution_count": 6
        }
      ]
    },
    {
      "cell_type": "code",
      "execution_count": 7,
      "metadata": {
        "colab": {
          "base_uri": "https://localhost:8080/"
        },
        "id": "T5EufHlVK-sL",
        "outputId": "0d7b2ea3-9157-48c6-c308-1a15b82afde3"
      },
      "outputs": [
        {
          "output_type": "execute_result",
          "data": {
            "text/plain": [
              "['/content/drive/MyDrive/project_stage/1/a6422159-32e2-426a-bc43-d042c17fbd8b.jpg',\n",
              " '/content/drive/MyDrive/project_stage/1/a3b2cc05-8803-427d-a612-1c1830b0b64f.jpg',\n",
              " '/content/drive/MyDrive/project_stage/1/b765edc8-a6b5-432d-8548-2ce2b660ccc4.jpg',\n",
              " '/content/drive/MyDrive/project_stage/1/4000db02-1304-4f43-83cd-c47d4ae07ec0.jpg',\n",
              " '/content/drive/MyDrive/project_stage/1/dfaa9c20-4859-406d-9e52-037445faa5e7.jpg',\n",
              " '/content/drive/MyDrive/project_stage/1/f8a84d79-d094-4083-9420-203f10869bf9.jpg',\n",
              " '/content/drive/MyDrive/project_stage/1/b40b027d-70f9-45b9-98a2-5c5c767eaa13.jpg',\n",
              " '/content/drive/MyDrive/project_stage/1/a8ac8b4f-18bd-471f-93d4-3b61a366359d.jpg',\n",
              " '/content/drive/MyDrive/project_stage/1/397eefa1-2f65-472d-905b-27f2a1cf8814.jpg',\n",
              " '/content/drive/MyDrive/project_stage/1/50203192-e9a1-4639-bec5-206f52e858ff.jpg']"
            ]
          },
          "metadata": {},
          "execution_count": 7
        }
      ],
      "source": [
        "# load test image filenames\n",
        "test_path = \"/content/drive/MyDrive/project_stage/1/\"\n",
        "test_filenames = [test_path + fname for fname in os.listdir(test_path)]\n",
        "test_filenames[:10]"
      ]
    },
    {
      "cell_type": "code",
      "source": [
        "len(test_filenames)"
      ],
      "metadata": {
        "colab": {
          "base_uri": "https://localhost:8080/"
        },
        "id": "VaiyaoyBLYUo",
        "outputId": "1b161fb3-09dc-42aa-d08f-64ecdc8c575e"
      },
      "execution_count": 8,
      "outputs": [
        {
          "output_type": "execute_result",
          "data": {
            "text/plain": [
              "850"
            ]
          },
          "metadata": {},
          "execution_count": 8
        }
      ]
    },
    {
      "cell_type": "code",
      "source": [
        "import tensorflow as tf\n",
        "import tensorflow_hub as hub\n",
        "import numpy as np"
      ],
      "metadata": {
        "id": "bhDaALC0Lnhf"
      },
      "execution_count": 9,
      "outputs": []
    },
    {
      "cell_type": "code",
      "source": [
        "# Define image size\n",
        "IMG_SIZE = 224\n",
        "\n",
        "#creat a funtion for preprocessing images\n",
        "\n",
        "def process_image(image_path,img_size=IMG_SIZE) :\n",
        "  \"\"\" \n",
        "  takes an image file path and turns the image into tensors.\n",
        "  \"\"\"\n",
        "  # read in an image file \n",
        "  image = tf.io.read_file(image_path)\n",
        "  # turn the jpeg image into numerical tensors with 3 colour channels (red, green, blue)\n",
        "  image = tf.image.decode_jpeg(image, channels=3)\n",
        "  # convert the colour channel values from 0-255 to 0-1 values\n",
        "  image = tf.image.convert_image_dtype(image, tf.float32)\n",
        "  # resize the image to our desired value (224, 224)\n",
        "  image = tf.image.resize(image, size =[IMG_SIZE,IMG_SIZE])\n",
        "\n",
        "  return image"
      ],
      "metadata": {
        "id": "fZbk6py7L6eq"
      },
      "execution_count": 10,
      "outputs": []
    },
    {
      "cell_type": "code",
      "source": [
        "# creat a simple function to return a tuple (image , label)\n",
        "def get_image_label(image_path,label) : \n",
        "\n",
        "   \"\"\"\n",
        "   take an image file path name and assosciatd label,\n",
        "   processes the image and return a typle of (image, label).\n",
        "   \"\"\"\n",
        "   image = process_image(image_path)\n",
        "   return image, label "
      ],
      "metadata": {
        "id": "mCDFKbY0L09p"
      },
      "execution_count": 11,
      "outputs": []
    },
    {
      "cell_type": "code",
      "source": [
        "# define the batche size , 32 is a good start\n",
        "BATCH_SIZE = 32\n",
        "\n",
        "#creat a function to turn data into batches\n",
        "def create_data_batches(X, y = None, batch_size = BATCH_SIZE, valid_data = False, test_data = False) :\n",
        "  \"\"\"\n",
        "  create batches of data out of image (X) and label (y) pairs .\n",
        "  shuffles the data if its training data but doesnt shuffle if its validation data.\n",
        "  also accepts test data as input (no labels).\n",
        "  \"\"\"\n",
        "\n",
        "  # if the data is a dataset , we probably dont have labels\n",
        "  if test_data :\n",
        "    print(\"creating test data batches ...\")\n",
        "    data = tf.data.Dataset.from_tensor_slices((tf.constant(X))) # only filepaths (no labels)\n",
        "    data_batch = data.map(process_image).batch(BATCH_SIZE)\n",
        "    return data_batch\n",
        "\n",
        "  # if the data is a valid dataset , we dont need to shuffle it \n",
        "  elif valid_data :\n",
        "    print(\"creating validation data batches ...\")\n",
        "    data = tf.data.Dataset.from_tensor_slices((tf.constant(X), # only filepaths (no labels)\n",
        "                                               tf.constant(y)))# labels\n",
        "    data_batch = data.map(get_image_label).batch(BATCH_SIZE)   \n",
        "    return data_batch   \n",
        "\n",
        "  else :\n",
        "    print(\"creating training data batches ....\")\n",
        "    # turn filepaths and labels into tensors\n",
        "    data = tf.data.Dataset.from_tensor_slices((tf.constant(X),\n",
        "                                              tf.constant(y)))    \n",
        "\n",
        "    # shuffling pathnames and labels before mapping image processor function is faster than shuffling images                        \n",
        "    data = data.shuffle(buffer_size=len(X))\n",
        "\n",
        "    # creat (image, label) tuples (this also turns the image path into a preprocessed image)\n",
        "    data = data.map(get_image_label)\n",
        "\n",
        "    # turn the trining data into batches\n",
        "    data_batch = data.batch(BATCH_SIZE)\n",
        "  return data_batch"
      ],
      "metadata": {
        "id": "3r8gt6Z_LbvU"
      },
      "execution_count": 12,
      "outputs": []
    },
    {
      "cell_type": "code",
      "source": [
        "# Create test data batch\n",
        "test_data = create_data_batches(test_filenames, test_data = True)"
      ],
      "metadata": {
        "colab": {
          "base_uri": "https://localhost:8080/"
        },
        "id": "vJlGnpoFLcUr",
        "outputId": "7c1c5462-d218-4629-820f-210583680c52"
      },
      "execution_count": 13,
      "outputs": [
        {
          "output_type": "stream",
          "name": "stdout",
          "text": [
            "creating test data batches ...\n"
          ]
        }
      ]
    },
    {
      "cell_type": "code",
      "source": [
        "test_data"
      ],
      "metadata": {
        "colab": {
          "base_uri": "https://localhost:8080/"
        },
        "id": "n8c1D7jEMDa3",
        "outputId": "736dcdee-c779-4d14-b37a-36da6d77f8bd"
      },
      "execution_count": 14,
      "outputs": [
        {
          "output_type": "execute_result",
          "data": {
            "text/plain": [
              "<BatchDataset element_spec=TensorSpec(shape=(None, 224, 224, 3), dtype=tf.float32, name=None)>"
            ]
          },
          "metadata": {},
          "execution_count": 14
        }
      ]
    },
    {
      "cell_type": "code",
      "source": [
        "# Create a function to load a trained model\n",
        "def load_model(model_path) :\n",
        "  \"\"\"\n",
        "  Loads a saved model from a specified path.\n",
        "  \"\"\"\n",
        "  print(f\"Loading saved model from : {model_path}\")\n",
        "  model = tf.keras.models.load_model(model_path,\n",
        "                                     custom_objects={\"KerasLayer\":hub.KerasLayer})\n",
        "  return model"
      ],
      "metadata": {
        "id": "9b44yrgQMPPo"
      },
      "execution_count": 15,
      "outputs": []
    },
    {
      "cell_type": "code",
      "source": [
        "# load the full model \n",
        "loaded_full_model = load_model(\"/content/drive/MyDrive/project_stage/model/20220516-15101652713823-plant-model-mobil-net-v2.h5\")"
      ],
      "metadata": {
        "colab": {
          "base_uri": "https://localhost:8080/"
        },
        "id": "uW2ibYhCMKSz",
        "outputId": "a3a56c17-38ee-40db-c8e9-52885e424773"
      },
      "execution_count": 16,
      "outputs": [
        {
          "output_type": "stream",
          "name": "stdout",
          "text": [
            "Loading saved model from : /content/drive/MyDrive/project_stage/model/20220516-15101652713823-plant-model-mobil-net-v2.h5\n"
          ]
        }
      ]
    },
    {
      "cell_type": "code",
      "source": [
        "#make prdictions on test data batch using the loaded full model\n",
        "test_predictions = loaded_full_model.predict(test_data,\n",
        "                                             verbose = 1)"
      ],
      "metadata": {
        "colab": {
          "base_uri": "https://localhost:8080/"
        },
        "id": "4tvsbxwUMxBf",
        "outputId": "bb3fe4b3-3dc9-4617-8209-0cc27cff12b5"
      },
      "execution_count": 17,
      "outputs": [
        {
          "output_type": "stream",
          "name": "stdout",
          "text": [
            "27/27 [==============================] - 87s 3s/step\n"
          ]
        }
      ]
    },
    {
      "cell_type": "code",
      "source": [
        "test_predictions"
      ],
      "metadata": {
        "colab": {
          "base_uri": "https://localhost:8080/"
        },
        "id": "tUsgMgFqNJvS",
        "outputId": "268eb56f-2af0-432f-e17b-108a9f8591d3"
      },
      "execution_count": 18,
      "outputs": [
        {
          "output_type": "execute_result",
          "data": {
            "text/plain": [
              "array([[1.0130899e-06, 2.2142085e-13, 1.8643064e-08, ..., 1.0838855e-05,\n",
              "        2.8394384e-08, 2.7109480e-05],\n",
              "       [1.8657358e-22, 3.1100895e-18, 2.4123140e-15, ..., 4.1806370e-15,\n",
              "        5.6059850e-19, 2.3199794e-15],\n",
              "       [8.4381409e-09, 3.1338560e-13, 5.9672267e-17, ..., 3.5510064e-11,\n",
              "        8.1065189e-11, 2.8131405e-04],\n",
              "       ...,\n",
              "       [3.7530711e-11, 2.4372873e-08, 7.2979404e-08, ..., 7.4513814e-06,\n",
              "        1.1059118e-10, 2.2241904e-10],\n",
              "       [1.9215624e-15, 1.6488743e-06, 6.2094047e-14, ..., 3.7041584e-10,\n",
              "        1.3236422e-08, 2.8726093e-12],\n",
              "       [9.8715837e-24, 3.9366570e-12, 2.2497429e-14, ..., 4.1378140e-11,\n",
              "        8.6336270e-25, 3.6541110e-14]], dtype=float32)"
            ]
          },
          "metadata": {},
          "execution_count": 18
        }
      ]
    },
    {
      "cell_type": "code",
      "source": [
        "# first predction \n",
        "index = 402\n",
        "# print(test_predictions[index])\n",
        "print(test_filenames[index])\n",
        "print(f\"Max value (probability of prediction): { np.max(test_predictions[index])}\")\n",
        "print(f\"Sum:{np.sum(test_predictions[index])}\")\n",
        "print(f\"Max index : {np.argmax(test_predictions[index])}\")\n",
        "print(f\"Predicted label:{unique_breeds[np.argmax(test_predictions[index])]}\")"
      ],
      "metadata": {
        "colab": {
          "base_uri": "https://localhost:8080/"
        },
        "id": "gnZlGGYwNMXs",
        "outputId": "05dac00f-4444-4b9c-cef8-1efc6a1755bc"
      },
      "execution_count": 446,
      "outputs": [
        {
          "output_type": "stream",
          "name": "stdout",
          "text": [
            "/content/drive/MyDrive/project_stage/1/eed3a5d3-6f2a-400f-9e28-261a3df795b0.jpg\n",
            "Max value (probability of prediction): 0.9355095028877258\n",
            "Sum:0.9999999403953552\n",
            "Max index : 52\n",
            "Predicted label:Plantae_Tracheophyta_Magnoliopsida_Lamiales_Bignoniaceae_Jacaranda_mimosifolia\n"
          ]
        }
      ]
    },
    {
      "cell_type": "code",
      "source": [
        "import pandas as pd\n",
        "df = pd.read_csv(\"/content/drive/MyDrive/project_stage/test_labels.csv\")\n",
        "dfdf = df.iloc[: , 1:]"
      ],
      "metadata": {
        "id": "rXIEJkVzE4vH"
      },
      "execution_count": 462,
      "outputs": []
    },
    {
      "cell_type": "code",
      "source": [
        "dfdf"
      ],
      "metadata": {
        "colab": {
          "base_uri": "https://localhost:8080/",
          "height": 424
        },
        "id": "Fcg-btFoGJVG",
        "outputId": "fd9af897-174a-4e34-e901-fced190ea41e"
      },
      "execution_count": 465,
      "outputs": [
        {
          "output_type": "execute_result",
          "data": {
            "text/plain": [
              "                                           id  \\\n",
              "0    83bcef3e-2881-4ab5-bf26-ec10a4e00419.jpg   \n",
              "1    8df87285-664f-47f0-bcc6-edca3187ea9e.jpg   \n",
              "2    c9f3daaf-4ffd-4b99-b3d0-bdb554a0d124.jpg   \n",
              "3    dd4a86a4-4683-4e13-b89a-a365434d536e.jpg   \n",
              "4    ffff454f-5d39-4132-9a45-d39fd9c16cd2.jpg   \n",
              "..                                        ...   \n",
              "845  784fab5c-0d04-44a6-9274-e5871048b39d.jpg   \n",
              "846  0c7b610f-6c49-4c31-9005-c26b7ab8775e.jpg   \n",
              "847  4a6acc67-8bb5-4e2c-af67-a89b5c584d7d.jpg   \n",
              "848  a6422159-32e2-426a-bc43-d042c17fbd8b.jpg   \n",
              "849  bc24eee0-459d-44db-9b45-1e35fbb18aee.jpg   \n",
              "\n",
              "                                                 breed  \n",
              "0    Plantae_Tracheophyta_Magnoliopsida_Gentianales...  \n",
              "1    Plantae_Tracheophyta_Magnoliopsida_Gentianales...  \n",
              "2    Plantae_Tracheophyta_Magnoliopsida_Gentianales...  \n",
              "3    Plantae_Tracheophyta_Magnoliopsida_Gentianales...  \n",
              "4    Plantae_Tracheophyta_Magnoliopsida_Gentianales...  \n",
              "..                                                 ...  \n",
              "845  Plantae_Tracheophyta_Liliopsida_Alismatales_Ar...  \n",
              "846  Plantae_Tracheophyta_Liliopsida_Alismatales_Ar...  \n",
              "847  Plantae_Tracheophyta_Liliopsida_Alismatales_Ar...  \n",
              "848  Plantae_Tracheophyta_Liliopsida_Alismatales_Ar...  \n",
              "849  Plantae_Tracheophyta_Liliopsida_Alismatales_Ar...  \n",
              "\n",
              "[850 rows x 2 columns]"
            ],
            "text/html": [
              "\n",
              "  <div id=\"df-3f21d4e0-7969-451e-88fb-9e824a842a43\">\n",
              "    <div class=\"colab-df-container\">\n",
              "      <div>\n",
              "<style scoped>\n",
              "    .dataframe tbody tr th:only-of-type {\n",
              "        vertical-align: middle;\n",
              "    }\n",
              "\n",
              "    .dataframe tbody tr th {\n",
              "        vertical-align: top;\n",
              "    }\n",
              "\n",
              "    .dataframe thead th {\n",
              "        text-align: right;\n",
              "    }\n",
              "</style>\n",
              "<table border=\"1\" class=\"dataframe\">\n",
              "  <thead>\n",
              "    <tr style=\"text-align: right;\">\n",
              "      <th></th>\n",
              "      <th>id</th>\n",
              "      <th>breed</th>\n",
              "    </tr>\n",
              "  </thead>\n",
              "  <tbody>\n",
              "    <tr>\n",
              "      <th>0</th>\n",
              "      <td>83bcef3e-2881-4ab5-bf26-ec10a4e00419.jpg</td>\n",
              "      <td>Plantae_Tracheophyta_Magnoliopsida_Gentianales...</td>\n",
              "    </tr>\n",
              "    <tr>\n",
              "      <th>1</th>\n",
              "      <td>8df87285-664f-47f0-bcc6-edca3187ea9e.jpg</td>\n",
              "      <td>Plantae_Tracheophyta_Magnoliopsida_Gentianales...</td>\n",
              "    </tr>\n",
              "    <tr>\n",
              "      <th>2</th>\n",
              "      <td>c9f3daaf-4ffd-4b99-b3d0-bdb554a0d124.jpg</td>\n",
              "      <td>Plantae_Tracheophyta_Magnoliopsida_Gentianales...</td>\n",
              "    </tr>\n",
              "    <tr>\n",
              "      <th>3</th>\n",
              "      <td>dd4a86a4-4683-4e13-b89a-a365434d536e.jpg</td>\n",
              "      <td>Plantae_Tracheophyta_Magnoliopsida_Gentianales...</td>\n",
              "    </tr>\n",
              "    <tr>\n",
              "      <th>4</th>\n",
              "      <td>ffff454f-5d39-4132-9a45-d39fd9c16cd2.jpg</td>\n",
              "      <td>Plantae_Tracheophyta_Magnoliopsida_Gentianales...</td>\n",
              "    </tr>\n",
              "    <tr>\n",
              "      <th>...</th>\n",
              "      <td>...</td>\n",
              "      <td>...</td>\n",
              "    </tr>\n",
              "    <tr>\n",
              "      <th>845</th>\n",
              "      <td>784fab5c-0d04-44a6-9274-e5871048b39d.jpg</td>\n",
              "      <td>Plantae_Tracheophyta_Liliopsida_Alismatales_Ar...</td>\n",
              "    </tr>\n",
              "    <tr>\n",
              "      <th>846</th>\n",
              "      <td>0c7b610f-6c49-4c31-9005-c26b7ab8775e.jpg</td>\n",
              "      <td>Plantae_Tracheophyta_Liliopsida_Alismatales_Ar...</td>\n",
              "    </tr>\n",
              "    <tr>\n",
              "      <th>847</th>\n",
              "      <td>4a6acc67-8bb5-4e2c-af67-a89b5c584d7d.jpg</td>\n",
              "      <td>Plantae_Tracheophyta_Liliopsida_Alismatales_Ar...</td>\n",
              "    </tr>\n",
              "    <tr>\n",
              "      <th>848</th>\n",
              "      <td>a6422159-32e2-426a-bc43-d042c17fbd8b.jpg</td>\n",
              "      <td>Plantae_Tracheophyta_Liliopsida_Alismatales_Ar...</td>\n",
              "    </tr>\n",
              "    <tr>\n",
              "      <th>849</th>\n",
              "      <td>bc24eee0-459d-44db-9b45-1e35fbb18aee.jpg</td>\n",
              "      <td>Plantae_Tracheophyta_Liliopsida_Alismatales_Ar...</td>\n",
              "    </tr>\n",
              "  </tbody>\n",
              "</table>\n",
              "<p>850 rows × 2 columns</p>\n",
              "</div>\n",
              "      <button class=\"colab-df-convert\" onclick=\"convertToInteractive('df-3f21d4e0-7969-451e-88fb-9e824a842a43')\"\n",
              "              title=\"Convert this dataframe to an interactive table.\"\n",
              "              style=\"display:none;\">\n",
              "        \n",
              "  <svg xmlns=\"http://www.w3.org/2000/svg\" height=\"24px\"viewBox=\"0 0 24 24\"\n",
              "       width=\"24px\">\n",
              "    <path d=\"M0 0h24v24H0V0z\" fill=\"none\"/>\n",
              "    <path d=\"M18.56 5.44l.94 2.06.94-2.06 2.06-.94-2.06-.94-.94-2.06-.94 2.06-2.06.94zm-11 1L8.5 8.5l.94-2.06 2.06-.94-2.06-.94L8.5 2.5l-.94 2.06-2.06.94zm10 10l.94 2.06.94-2.06 2.06-.94-2.06-.94-.94-2.06-.94 2.06-2.06.94z\"/><path d=\"M17.41 7.96l-1.37-1.37c-.4-.4-.92-.59-1.43-.59-.52 0-1.04.2-1.43.59L10.3 9.45l-7.72 7.72c-.78.78-.78 2.05 0 2.83L4 21.41c.39.39.9.59 1.41.59.51 0 1.02-.2 1.41-.59l7.78-7.78 2.81-2.81c.8-.78.8-2.07 0-2.86zM5.41 20L4 18.59l7.72-7.72 1.47 1.35L5.41 20z\"/>\n",
              "  </svg>\n",
              "      </button>\n",
              "      \n",
              "  <style>\n",
              "    .colab-df-container {\n",
              "      display:flex;\n",
              "      flex-wrap:wrap;\n",
              "      gap: 12px;\n",
              "    }\n",
              "\n",
              "    .colab-df-convert {\n",
              "      background-color: #E8F0FE;\n",
              "      border: none;\n",
              "      border-radius: 50%;\n",
              "      cursor: pointer;\n",
              "      display: none;\n",
              "      fill: #1967D2;\n",
              "      height: 32px;\n",
              "      padding: 0 0 0 0;\n",
              "      width: 32px;\n",
              "    }\n",
              "\n",
              "    .colab-df-convert:hover {\n",
              "      background-color: #E2EBFA;\n",
              "      box-shadow: 0px 1px 2px rgba(60, 64, 67, 0.3), 0px 1px 3px 1px rgba(60, 64, 67, 0.15);\n",
              "      fill: #174EA6;\n",
              "    }\n",
              "\n",
              "    [theme=dark] .colab-df-convert {\n",
              "      background-color: #3B4455;\n",
              "      fill: #D2E3FC;\n",
              "    }\n",
              "\n",
              "    [theme=dark] .colab-df-convert:hover {\n",
              "      background-color: #434B5C;\n",
              "      box-shadow: 0px 1px 3px 1px rgba(0, 0, 0, 0.15);\n",
              "      filter: drop-shadow(0px 1px 2px rgba(0, 0, 0, 0.3));\n",
              "      fill: #FFFFFF;\n",
              "    }\n",
              "  </style>\n",
              "\n",
              "      <script>\n",
              "        const buttonEl =\n",
              "          document.querySelector('#df-3f21d4e0-7969-451e-88fb-9e824a842a43 button.colab-df-convert');\n",
              "        buttonEl.style.display =\n",
              "          google.colab.kernel.accessAllowed ? 'block' : 'none';\n",
              "\n",
              "        async function convertToInteractive(key) {\n",
              "          const element = document.querySelector('#df-3f21d4e0-7969-451e-88fb-9e824a842a43');\n",
              "          const dataTable =\n",
              "            await google.colab.kernel.invokeFunction('convertToInteractive',\n",
              "                                                     [key], {});\n",
              "          if (!dataTable) return;\n",
              "\n",
              "          const docLinkHtml = 'Like what you see? Visit the ' +\n",
              "            '<a target=\"_blank\" href=https://colab.research.google.com/notebooks/data_table.ipynb>data table notebook</a>'\n",
              "            + ' to learn more about interactive tables.';\n",
              "          element.innerHTML = '';\n",
              "          dataTable['output_type'] = 'display_data';\n",
              "          await google.colab.output.renderOutput(dataTable, element);\n",
              "          const docLink = document.createElement('div');\n",
              "          docLink.innerHTML = docLinkHtml;\n",
              "          element.appendChild(docLink);\n",
              "        }\n",
              "      </script>\n",
              "    </div>\n",
              "  </div>\n",
              "  "
            ]
          },
          "metadata": {},
          "execution_count": 465
        }
      ]
    },
    {
      "cell_type": "code",
      "source": [
        "dfdf['id'] = dfdf['id'].str.replace('.jpg','')"
      ],
      "metadata": {
        "colab": {
          "base_uri": "https://localhost:8080/"
        },
        "id": "22F-Eq4_HL39",
        "outputId": "e9f67c18-d8c5-4975-95ea-b2770f2f4e41"
      },
      "execution_count": 494,
      "outputs": [
        {
          "output_type": "stream",
          "name": "stderr",
          "text": [
            "/usr/local/lib/python3.7/dist-packages/ipykernel_launcher.py:1: FutureWarning: The default value of regex will change from True to False in a future version.\n",
            "  \"\"\"Entry point for launching an IPython kernel.\n"
          ]
        }
      ]
    },
    {
      "cell_type": "code",
      "source": [
        "dfdf"
      ],
      "metadata": {
        "colab": {
          "base_uri": "https://localhost:8080/",
          "height": 424
        },
        "id": "b3O9L_P-G7Os",
        "outputId": "5b68c749-ca15-48ef-cd20-cb9dfddc5abd"
      },
      "execution_count": 497,
      "outputs": [
        {
          "output_type": "execute_result",
          "data": {
            "text/plain": [
              "                                       id  \\\n",
              "0    83bcef3e-2881-4ab5-bf26-ec10a4e00419   \n",
              "1    8df87285-664f-47f0-bcc6-edca3187ea9e   \n",
              "2    c9f3daaf-4ffd-4b99-b3d0-bdb554a0d124   \n",
              "3    dd4a86a4-4683-4e13-b89a-a365434d536e   \n",
              "4    ffff454f-5d39-4132-9a45-d39fd9c16cd2   \n",
              "..                                    ...   \n",
              "845  784fab5c-0d04-44a6-9274-e5871048b39d   \n",
              "846  0c7b610f-6c49-4c31-9005-c26b7ab8775e   \n",
              "847  4a6acc67-8bb5-4e2c-af67-a89b5c584d7d   \n",
              "848  a6422159-32e2-426a-bc43-d042c17fbd8b   \n",
              "849  bc24eee0-459d-44db-9b45-1e35fbb18aee   \n",
              "\n",
              "                                                 breed  \n",
              "0    Plantae_Tracheophyta_Magnoliopsida_Gentianales...  \n",
              "1    Plantae_Tracheophyta_Magnoliopsida_Gentianales...  \n",
              "2    Plantae_Tracheophyta_Magnoliopsida_Gentianales...  \n",
              "3    Plantae_Tracheophyta_Magnoliopsida_Gentianales...  \n",
              "4    Plantae_Tracheophyta_Magnoliopsida_Gentianales...  \n",
              "..                                                 ...  \n",
              "845  Plantae_Tracheophyta_Liliopsida_Alismatales_Ar...  \n",
              "846  Plantae_Tracheophyta_Liliopsida_Alismatales_Ar...  \n",
              "847  Plantae_Tracheophyta_Liliopsida_Alismatales_Ar...  \n",
              "848  Plantae_Tracheophyta_Liliopsida_Alismatales_Ar...  \n",
              "849  Plantae_Tracheophyta_Liliopsida_Alismatales_Ar...  \n",
              "\n",
              "[850 rows x 2 columns]"
            ],
            "text/html": [
              "\n",
              "  <div id=\"df-bc551b7c-dacf-4ee3-b23b-91ce8615255b\">\n",
              "    <div class=\"colab-df-container\">\n",
              "      <div>\n",
              "<style scoped>\n",
              "    .dataframe tbody tr th:only-of-type {\n",
              "        vertical-align: middle;\n",
              "    }\n",
              "\n",
              "    .dataframe tbody tr th {\n",
              "        vertical-align: top;\n",
              "    }\n",
              "\n",
              "    .dataframe thead th {\n",
              "        text-align: right;\n",
              "    }\n",
              "</style>\n",
              "<table border=\"1\" class=\"dataframe\">\n",
              "  <thead>\n",
              "    <tr style=\"text-align: right;\">\n",
              "      <th></th>\n",
              "      <th>id</th>\n",
              "      <th>breed</th>\n",
              "    </tr>\n",
              "  </thead>\n",
              "  <tbody>\n",
              "    <tr>\n",
              "      <th>0</th>\n",
              "      <td>83bcef3e-2881-4ab5-bf26-ec10a4e00419</td>\n",
              "      <td>Plantae_Tracheophyta_Magnoliopsida_Gentianales...</td>\n",
              "    </tr>\n",
              "    <tr>\n",
              "      <th>1</th>\n",
              "      <td>8df87285-664f-47f0-bcc6-edca3187ea9e</td>\n",
              "      <td>Plantae_Tracheophyta_Magnoliopsida_Gentianales...</td>\n",
              "    </tr>\n",
              "    <tr>\n",
              "      <th>2</th>\n",
              "      <td>c9f3daaf-4ffd-4b99-b3d0-bdb554a0d124</td>\n",
              "      <td>Plantae_Tracheophyta_Magnoliopsida_Gentianales...</td>\n",
              "    </tr>\n",
              "    <tr>\n",
              "      <th>3</th>\n",
              "      <td>dd4a86a4-4683-4e13-b89a-a365434d536e</td>\n",
              "      <td>Plantae_Tracheophyta_Magnoliopsida_Gentianales...</td>\n",
              "    </tr>\n",
              "    <tr>\n",
              "      <th>4</th>\n",
              "      <td>ffff454f-5d39-4132-9a45-d39fd9c16cd2</td>\n",
              "      <td>Plantae_Tracheophyta_Magnoliopsida_Gentianales...</td>\n",
              "    </tr>\n",
              "    <tr>\n",
              "      <th>...</th>\n",
              "      <td>...</td>\n",
              "      <td>...</td>\n",
              "    </tr>\n",
              "    <tr>\n",
              "      <th>845</th>\n",
              "      <td>784fab5c-0d04-44a6-9274-e5871048b39d</td>\n",
              "      <td>Plantae_Tracheophyta_Liliopsida_Alismatales_Ar...</td>\n",
              "    </tr>\n",
              "    <tr>\n",
              "      <th>846</th>\n",
              "      <td>0c7b610f-6c49-4c31-9005-c26b7ab8775e</td>\n",
              "      <td>Plantae_Tracheophyta_Liliopsida_Alismatales_Ar...</td>\n",
              "    </tr>\n",
              "    <tr>\n",
              "      <th>847</th>\n",
              "      <td>4a6acc67-8bb5-4e2c-af67-a89b5c584d7d</td>\n",
              "      <td>Plantae_Tracheophyta_Liliopsida_Alismatales_Ar...</td>\n",
              "    </tr>\n",
              "    <tr>\n",
              "      <th>848</th>\n",
              "      <td>a6422159-32e2-426a-bc43-d042c17fbd8b</td>\n",
              "      <td>Plantae_Tracheophyta_Liliopsida_Alismatales_Ar...</td>\n",
              "    </tr>\n",
              "    <tr>\n",
              "      <th>849</th>\n",
              "      <td>bc24eee0-459d-44db-9b45-1e35fbb18aee</td>\n",
              "      <td>Plantae_Tracheophyta_Liliopsida_Alismatales_Ar...</td>\n",
              "    </tr>\n",
              "  </tbody>\n",
              "</table>\n",
              "<p>850 rows × 2 columns</p>\n",
              "</div>\n",
              "      <button class=\"colab-df-convert\" onclick=\"convertToInteractive('df-bc551b7c-dacf-4ee3-b23b-91ce8615255b')\"\n",
              "              title=\"Convert this dataframe to an interactive table.\"\n",
              "              style=\"display:none;\">\n",
              "        \n",
              "  <svg xmlns=\"http://www.w3.org/2000/svg\" height=\"24px\"viewBox=\"0 0 24 24\"\n",
              "       width=\"24px\">\n",
              "    <path d=\"M0 0h24v24H0V0z\" fill=\"none\"/>\n",
              "    <path d=\"M18.56 5.44l.94 2.06.94-2.06 2.06-.94-2.06-.94-.94-2.06-.94 2.06-2.06.94zm-11 1L8.5 8.5l.94-2.06 2.06-.94-2.06-.94L8.5 2.5l-.94 2.06-2.06.94zm10 10l.94 2.06.94-2.06 2.06-.94-2.06-.94-.94-2.06-.94 2.06-2.06.94z\"/><path d=\"M17.41 7.96l-1.37-1.37c-.4-.4-.92-.59-1.43-.59-.52 0-1.04.2-1.43.59L10.3 9.45l-7.72 7.72c-.78.78-.78 2.05 0 2.83L4 21.41c.39.39.9.59 1.41.59.51 0 1.02-.2 1.41-.59l7.78-7.78 2.81-2.81c.8-.78.8-2.07 0-2.86zM5.41 20L4 18.59l7.72-7.72 1.47 1.35L5.41 20z\"/>\n",
              "  </svg>\n",
              "      </button>\n",
              "      \n",
              "  <style>\n",
              "    .colab-df-container {\n",
              "      display:flex;\n",
              "      flex-wrap:wrap;\n",
              "      gap: 12px;\n",
              "    }\n",
              "\n",
              "    .colab-df-convert {\n",
              "      background-color: #E8F0FE;\n",
              "      border: none;\n",
              "      border-radius: 50%;\n",
              "      cursor: pointer;\n",
              "      display: none;\n",
              "      fill: #1967D2;\n",
              "      height: 32px;\n",
              "      padding: 0 0 0 0;\n",
              "      width: 32px;\n",
              "    }\n",
              "\n",
              "    .colab-df-convert:hover {\n",
              "      background-color: #E2EBFA;\n",
              "      box-shadow: 0px 1px 2px rgba(60, 64, 67, 0.3), 0px 1px 3px 1px rgba(60, 64, 67, 0.15);\n",
              "      fill: #174EA6;\n",
              "    }\n",
              "\n",
              "    [theme=dark] .colab-df-convert {\n",
              "      background-color: #3B4455;\n",
              "      fill: #D2E3FC;\n",
              "    }\n",
              "\n",
              "    [theme=dark] .colab-df-convert:hover {\n",
              "      background-color: #434B5C;\n",
              "      box-shadow: 0px 1px 3px 1px rgba(0, 0, 0, 0.15);\n",
              "      filter: drop-shadow(0px 1px 2px rgba(0, 0, 0, 0.3));\n",
              "      fill: #FFFFFF;\n",
              "    }\n",
              "  </style>\n",
              "\n",
              "      <script>\n",
              "        const buttonEl =\n",
              "          document.querySelector('#df-bc551b7c-dacf-4ee3-b23b-91ce8615255b button.colab-df-convert');\n",
              "        buttonEl.style.display =\n",
              "          google.colab.kernel.accessAllowed ? 'block' : 'none';\n",
              "\n",
              "        async function convertToInteractive(key) {\n",
              "          const element = document.querySelector('#df-bc551b7c-dacf-4ee3-b23b-91ce8615255b');\n",
              "          const dataTable =\n",
              "            await google.colab.kernel.invokeFunction('convertToInteractive',\n",
              "                                                     [key], {});\n",
              "          if (!dataTable) return;\n",
              "\n",
              "          const docLinkHtml = 'Like what you see? Visit the ' +\n",
              "            '<a target=\"_blank\" href=https://colab.research.google.com/notebooks/data_table.ipynb>data table notebook</a>'\n",
              "            + ' to learn more about interactive tables.';\n",
              "          element.innerHTML = '';\n",
              "          dataTable['output_type'] = 'display_data';\n",
              "          await google.colab.output.renderOutput(dataTable, element);\n",
              "          const docLink = document.createElement('div');\n",
              "          docLink.innerHTML = docLinkHtml;\n",
              "          element.appendChild(docLink);\n",
              "        }\n",
              "      </script>\n",
              "    </div>\n",
              "  </div>\n",
              "  "
            ]
          },
          "metadata": {},
          "execution_count": 497
        }
      ]
    },
    {
      "cell_type": "code",
      "source": [
        "labels_test = dfdf"
      ],
      "metadata": {
        "id": "u6IkMW3HGrez"
      },
      "execution_count": 498,
      "outputs": []
    },
    {
      "cell_type": "code",
      "source": [
        "filepaths = [\"/content/drive/MyDrive/project_stage/1/\" + fpath + \".jpg\" for fpath in labels_test[\"id\"]]\n"
      ],
      "metadata": {
        "id": "GOFUbQ4PGitI"
      },
      "execution_count": 505,
      "outputs": []
    },
    {
      "cell_type": "code",
      "source": [
        "filepaths[:10]"
      ],
      "metadata": {
        "colab": {
          "base_uri": "https://localhost:8080/"
        },
        "id": "sOvjM8PPQo1l",
        "outputId": "05b00324-15d5-47b5-a61e-6d750faf3ed8"
      },
      "execution_count": 506,
      "outputs": [
        {
          "output_type": "execute_result",
          "data": {
            "text/plain": [
              "['/content/drive/MyDrive/project_stage/1/83bcef3e-2881-4ab5-bf26-ec10a4e00419.jpg',\n",
              " '/content/drive/MyDrive/project_stage/1/8df87285-664f-47f0-bcc6-edca3187ea9e.jpg',\n",
              " '/content/drive/MyDrive/project_stage/1/c9f3daaf-4ffd-4b99-b3d0-bdb554a0d124.jpg',\n",
              " '/content/drive/MyDrive/project_stage/1/dd4a86a4-4683-4e13-b89a-a365434d536e.jpg',\n",
              " '/content/drive/MyDrive/project_stage/1/ffff454f-5d39-4132-9a45-d39fd9c16cd2.jpg',\n",
              " '/content/drive/MyDrive/project_stage/1/b211e1a2-202b-404d-b4b5-92ca033e0ee3.jpg',\n",
              " '/content/drive/MyDrive/project_stage/1/e3f4784c-25f4-4e4d-b708-08f3f1b889bc.jpg',\n",
              " '/content/drive/MyDrive/project_stage/1/7ce273cd-971c-470d-a449-5a3e1321682f.jpg',\n",
              " '/content/drive/MyDrive/project_stage/1/4631a31b-71d8-4bd2-8dea-f7676ee9ed37.jpg',\n",
              " '/content/drive/MyDrive/project_stage/1/1f37a821-a907-463a-aaab-c2bdb4a4763a.jpg']"
            ]
          },
          "metadata": {},
          "execution_count": 506
        }
      ]
    },
    {
      "cell_type": "code",
      "source": [
        "# check whether of filenames matches number of actual image files \n",
        "import os \n",
        "if len(os.listdir(\"/content/drive/MyDrive/project_stage/1\")) == len(filepaths):\n",
        "  print(\"filepaths match actual amount of files ! proceed.\")\n",
        "else :\n",
        "  print (\"filepaths do not match actual amount of files , check the target directory.\")"
      ],
      "metadata": {
        "colab": {
          "base_uri": "https://localhost:8080/"
        },
        "id": "8nfa3QRHQ01S",
        "outputId": "5fa8ab7d-c6d5-4038-b946-8285a67cf863"
      },
      "execution_count": 507,
      "outputs": [
        {
          "output_type": "stream",
          "name": "stdout",
          "text": [
            "filepaths match actual amount of files ! proceed.\n"
          ]
        }
      ]
    },
    {
      "cell_type": "code",
      "source": [
        "from IPython.display import Image\n",
        "Image(filepaths[0])"
      ],
      "metadata": {
        "colab": {
          "base_uri": "https://localhost:8080/",
          "height": 350
        },
        "id": "jekAzFWPQ6Fl",
        "outputId": "3c0b17fb-beb5-4f3b-a557-a7d5dd037d32"
      },
      "execution_count": 508,
      "outputs": [
        {
          "output_type": "execute_result",
          "data": {
            "text/plain": [
              "<IPython.core.display.Image object>"
            ],
            "image/jpeg": "[encoded data removed]"
          },
          "metadata": {},
          "execution_count": 508
        }
      ]
    },
    {
      "cell_type": "code",
      "source": [
        "labels_test[\"breed\"][0]"
      ],
      "metadata": {
        "colab": {
          "base_uri": "https://localhost:8080/",
          "height": 35
        },
        "id": "fzP7bdPRUwAZ",
        "outputId": "1affb463-cd5b-42f9-f3cc-d2b12b8819b2"
      },
      "execution_count": 510,
      "outputs": [
        {
          "output_type": "execute_result",
          "data": {
            "text/plain": [
              "'Plantae_Tracheophyta_Magnoliopsida_Gentianales_Apocynaceae_Nerium_oleander'"
            ],
            "application/vnd.google.colaboratory.intrinsic+json": {
              "type": "string"
            }
          },
          "metadata": {},
          "execution_count": 510
        }
      ]
    },
    {
      "cell_type": "code",
      "source": [
        "import numpy as np\n",
        "labels = labels_test[\"breed\"].to_numpy()\n",
        "#labels = np.array(labels) #does same thing as above\n",
        "labels[:10]"
      ],
      "metadata": {
        "colab": {
          "base_uri": "https://localhost:8080/"
        },
        "id": "B-gNrfahU6pk",
        "outputId": "b07e13c6-edaa-4fdf-a460-fb28514f5e02"
      },
      "execution_count": 512,
      "outputs": [
        {
          "output_type": "execute_result",
          "data": {
            "text/plain": [
              "array(['Plantae_Tracheophyta_Magnoliopsida_Gentianales_Apocynaceae_Nerium_oleander',\n",
              "       'Plantae_Tracheophyta_Magnoliopsida_Gentianales_Apocynaceae_Nerium_oleander',\n",
              "       'Plantae_Tracheophyta_Magnoliopsida_Gentianales_Apocynaceae_Nerium_oleander',\n",
              "       'Plantae_Tracheophyta_Magnoliopsida_Gentianales_Apocynaceae_Nerium_oleander',\n",
              "       'Plantae_Tracheophyta_Magnoliopsida_Gentianales_Apocynaceae_Nerium_oleander',\n",
              "       'Plantae_Tracheophyta_Magnoliopsida_Gentianales_Apocynaceae_Nerium_oleander',\n",
              "       'Plantae_Tracheophyta_Magnoliopsida_Gentianales_Apocynaceae_Nerium_oleander',\n",
              "       'Plantae_Tracheophyta_Magnoliopsida_Gentianales_Apocynaceae_Nerium_oleander',\n",
              "       'Plantae_Tracheophyta_Magnoliopsida_Gentianales_Apocynaceae_Nerium_oleander',\n",
              "       'Plantae_Tracheophyta_Magnoliopsida_Gentianales_Apocynaceae_Nerium_oleander'],\n",
              "      dtype=object)"
            ]
          },
          "metadata": {},
          "execution_count": 512
        }
      ]
    },
    {
      "cell_type": "code",
      "source": [
        "#see if numbers of labels match number of filenames \n",
        "if len(labels) == len(filepaths):\n",
        "  print(\"number of labels matches number of filenames\")\n",
        "else : \n",
        "  print(\"number of labels does not match of file names , check data directories!\")"
      ],
      "metadata": {
        "colab": {
          "base_uri": "https://localhost:8080/"
        },
        "id": "07RjSDAOVTmy",
        "outputId": "2c9c5da7-6b1f-4825-94fd-7a0b087ca815"
      },
      "execution_count": 513,
      "outputs": [
        {
          "output_type": "stream",
          "name": "stdout",
          "text": [
            "number of labels matches number of filenames\n"
          ]
        }
      ]
    },
    {
      "cell_type": "code",
      "source": [
        "# find the unique label values\n",
        "unique_breeds = np.unique(labels)\n",
        "len(unique_breeds)"
      ],
      "metadata": {
        "colab": {
          "base_uri": "https://localhost:8080/"
        },
        "id": "f09HEaBuVW2m",
        "outputId": "5211d239-f375-4afc-9cd8-b57456d7446e"
      },
      "execution_count": 514,
      "outputs": [
        {
          "output_type": "execute_result",
          "data": {
            "text/plain": [
              "85"
            ]
          },
          "metadata": {},
          "execution_count": 514
        }
      ]
    },
    {
      "cell_type": "code",
      "source": [
        "unique_breeds[:10]"
      ],
      "metadata": {
        "colab": {
          "base_uri": "https://localhost:8080/"
        },
        "id": "qQlmUZBmVZit",
        "outputId": "c5d1298f-a6f9-40c8-f514-2e862202835f"
      },
      "execution_count": 515,
      "outputs": [
        {
          "output_type": "execute_result",
          "data": {
            "text/plain": [
              "array(['Plantae_Tracheophyta_Cycadopsida_Cycadales_Zamiaceae_Zamia_integrifolia',\n",
              "       'Plantae_Tracheophyta_Liliopsida_Alismatales_Araceae_Alocasia_odora',\n",
              "       'Plantae_Tracheophyta_Liliopsida_Alismatales_Araceae_Epipremnum_aureum',\n",
              "       'Plantae_Tracheophyta_Liliopsida_Alismatales_Araceae_Monstera_deliciosa',\n",
              "       'Plantae_Tracheophyta_Liliopsida_Alismatales_Araceae_Syngonium_podophyllum',\n",
              "       'Plantae_Tracheophyta_Liliopsida_Alismatales_Araceae_Zantedeschia_aethiopica',\n",
              "       'Plantae_Tracheophyta_Liliopsida_Arecales_Arecaceae_Chamaerops_humilis',\n",
              "       'Plantae_Tracheophyta_Liliopsida_Arecales_Arecaceae_Washingtonia_filifera',\n",
              "       'Plantae_Tracheophyta_Liliopsida_Arecales_Arecaceae_Washingtonia_robusta',\n",
              "       'Plantae_Tracheophyta_Liliopsida_Asparagales_Amaryllidaceae_Hymenocallis_littoralis'],\n",
              "      dtype=object)"
            ]
          },
          "metadata": {},
          "execution_count": 515
        }
      ]
    },
    {
      "cell_type": "code",
      "source": [
        "# Turn a single label into a booleans\n",
        "print(labels[0])\n",
        "labels[0] == unique_breeds"
      ],
      "metadata": {
        "colab": {
          "base_uri": "https://localhost:8080/"
        },
        "id": "6kkAGXvjVhU4",
        "outputId": "8a5828b4-6034-4f1f-cafe-53b4d3d5a058"
      },
      "execution_count": 516,
      "outputs": [
        {
          "output_type": "stream",
          "name": "stdout",
          "text": [
            "Plantae_Tracheophyta_Magnoliopsida_Gentianales_Apocynaceae_Nerium_oleander\n"
          ]
        },
        {
          "output_type": "execute_result",
          "data": {
            "text/plain": [
              "array([False, False, False, False, False, False, False, False, False,\n",
              "       False, False, False, False, False, False, False, False, False,\n",
              "       False, False, False, False, False, False, False, False, False,\n",
              "       False, False, False, False, False, False, False, False, False,\n",
              "       False, False, False, False, False, False,  True, False, False,\n",
              "       False, False, False, False, False, False, False, False, False,\n",
              "       False, False, False, False, False, False, False, False, False,\n",
              "       False, False, False, False, False, False, False, False, False,\n",
              "       False, False, False, False, False, False, False, False, False,\n",
              "       False, False, False, False])"
            ]
          },
          "metadata": {},
          "execution_count": 516
        }
      ]
    },
    {
      "cell_type": "code",
      "source": [
        "# Turn every label into a boolean array\n",
        "boolean_labels = [label == unique_breeds for label in labels]\n",
        "boolean_labels[:2]"
      ],
      "metadata": {
        "colab": {
          "base_uri": "https://localhost:8080/"
        },
        "id": "V5q69uleVmHh",
        "outputId": "c6f00e26-8db3-4f9e-c2a2-7f2a6f7764f9"
      },
      "execution_count": 517,
      "outputs": [
        {
          "output_type": "execute_result",
          "data": {
            "text/plain": [
              "[array([False, False, False, False, False, False, False, False, False,\n",
              "        False, False, False, False, False, False, False, False, False,\n",
              "        False, False, False, False, False, False, False, False, False,\n",
              "        False, False, False, False, False, False, False, False, False,\n",
              "        False, False, False, False, False, False,  True, False, False,\n",
              "        False, False, False, False, False, False, False, False, False,\n",
              "        False, False, False, False, False, False, False, False, False,\n",
              "        False, False, False, False, False, False, False, False, False,\n",
              "        False, False, False, False, False, False, False, False, False,\n",
              "        False, False, False, False]),\n",
              " array([False, False, False, False, False, False, False, False, False,\n",
              "        False, False, False, False, False, False, False, False, False,\n",
              "        False, False, False, False, False, False, False, False, False,\n",
              "        False, False, False, False, False, False, False, False, False,\n",
              "        False, False, False, False, False, False,  True, False, False,\n",
              "        False, False, False, False, False, False, False, False, False,\n",
              "        False, False, False, False, False, False, False, False, False,\n",
              "        False, False, False, False, False, False, False, False, False,\n",
              "        False, False, False, False, False, False, False, False, False,\n",
              "        False, False, False, False])]"
            ]
          },
          "metadata": {},
          "execution_count": 517
        }
      ]
    },
    {
      "cell_type": "code",
      "source": [
        "from numpy.ma.extras import unique\n",
        "#exemple : turning boolean array into integers \n",
        "print(labels[0]) #original label\n",
        "print(np.where(unique_breeds == labels[0])) #index where label occurs\n",
        "print(boolean_labels[0].argmax()) #index where label occurs in boolean array\n",
        "print(boolean_labels[0].astype(int)) # there will be a 1 where the sample occurs"
      ],
      "metadata": {
        "colab": {
          "base_uri": "https://localhost:8080/"
        },
        "id": "G9mrIPKyVph5",
        "outputId": "cfbd3145-fdff-4d92-c8ec-23601d5a399b"
      },
      "execution_count": 518,
      "outputs": [
        {
          "output_type": "stream",
          "name": "stdout",
          "text": [
            "Plantae_Tracheophyta_Magnoliopsida_Gentianales_Apocynaceae_Nerium_oleander\n",
            "(array([42]),)\n",
            "42\n",
            "[0 0 0 0 0 0 0 0 0 0 0 0 0 0 0 0 0 0 0 0 0 0 0 0 0 0 0 0 0 0 0 0 0 0 0 0 0\n",
            " 0 0 0 0 0 1 0 0 0 0 0 0 0 0 0 0 0 0 0 0 0 0 0 0 0 0 0 0 0 0 0 0 0 0 0 0 0\n",
            " 0 0 0 0 0 0 0 0 0 0 0]\n"
          ]
        }
      ]
    },
    {
      "cell_type": "code",
      "source": [
        "print(labels[2])\n",
        "print(boolean_labels[2].astype(int))"
      ],
      "metadata": {
        "colab": {
          "base_uri": "https://localhost:8080/"
        },
        "id": "IN1smMGPVuJR",
        "outputId": "8a0f7f28-06d7-47bd-acb3-793863086e7b"
      },
      "execution_count": 519,
      "outputs": [
        {
          "output_type": "stream",
          "name": "stdout",
          "text": [
            "Plantae_Tracheophyta_Magnoliopsida_Gentianales_Apocynaceae_Nerium_oleander\n",
            "[0 0 0 0 0 0 0 0 0 0 0 0 0 0 0 0 0 0 0 0 0 0 0 0 0 0 0 0 0 0 0 0 0 0 0 0 0\n",
            " 0 0 0 0 0 1 0 0 0 0 0 0 0 0 0 0 0 0 0 0 0 0 0 0 0 0 0 0 0 0 0 0 0 0 0 0 0\n",
            " 0 0 0 0 0 0 0 0 0 0 0]\n"
          ]
        }
      ]
    },
    {
      "cell_type": "code",
      "source": [
        "filepaths[:2]"
      ],
      "metadata": {
        "colab": {
          "base_uri": "https://localhost:8080/"
        },
        "id": "B1VWQqwSVwb3",
        "outputId": "35b6834d-f54e-4fed-f369-06b908a042d5"
      },
      "execution_count": 520,
      "outputs": [
        {
          "output_type": "execute_result",
          "data": {
            "text/plain": [
              "['/content/drive/MyDrive/project_stage/1/83bcef3e-2881-4ab5-bf26-ec10a4e00419.jpg',\n",
              " '/content/drive/MyDrive/project_stage/1/8df87285-664f-47f0-bcc6-edca3187ea9e.jpg']"
            ]
          },
          "metadata": {},
          "execution_count": 520
        }
      ]
    },
    {
      "cell_type": "code",
      "source": [
        "#setup x & y variable \n",
        "X = filepaths\n",
        "y = boolean_labels"
      ],
      "metadata": {
        "id": "khO_2C85VzQ1"
      },
      "execution_count": 521,
      "outputs": []
    },
    {
      "cell_type": "code",
      "source": [
        "# lets split our data into train and validation sets\n",
        "from sklearn.model_selection import train_test_split\n",
        "\n",
        "#split them into ytaining and validation of total size NUM_IMAGES\n",
        "X_train,X_test,y_train,y_test = train_test_split(X,\n",
        "                                               y,\n",
        "                                               test_size=849,\n",
        "                                               random_state=42)\n",
        "\n",
        "len(X_train), len(y_train), len(X_test), len(y_test)"
      ],
      "metadata": {
        "colab": {
          "base_uri": "https://localhost:8080/"
        },
        "id": "LDNpJW_JWkpK",
        "outputId": "f2b6e769-fbce-4fae-eeaa-2008232652bc"
      },
      "execution_count": 532,
      "outputs": [
        {
          "output_type": "execute_result",
          "data": {
            "text/plain": [
              "(1, 1, 849, 849)"
            ]
          },
          "metadata": {},
          "execution_count": 532
        }
      ]
    },
    {
      "cell_type": "code",
      "source": [
        "TEST_data = create_data_batches(X_test, y_test, valid_data = True)"
      ],
      "metadata": {
        "colab": {
          "base_uri": "https://localhost:8080/"
        },
        "id": "z7K5cDc6WYcs",
        "outputId": "d41f3498-3bd0-41c1-e731-6a9b8dc46191"
      },
      "execution_count": 533,
      "outputs": [
        {
          "output_type": "stream",
          "name": "stdout",
          "text": [
            "creating validation data batches ...\n"
          ]
        }
      ]
    },
    {
      "cell_type": "code",
      "source": [
        "# Evaluate the loaded model\n",
        "loaded_full_model.evaluate(TEST_data)"
      ],
      "metadata": {
        "colab": {
          "base_uri": "https://localhost:8080/"
        },
        "id": "G-xlHFRfXXz0",
        "outputId": "2c832d81-5c29-4289-c0a3-bab27935ad45"
      },
      "execution_count": 534,
      "outputs": [
        {
          "output_type": "stream",
          "name": "stdout",
          "text": [
            "27/27 [==============================] - 34s 1s/step - loss: 2.8610 - accuracy: 0.6042\n"
          ]
        },
        {
          "output_type": "execute_result",
          "data": {
            "text/plain": [
              "[2.861015558242798, 0.6042402982711792]"
            ]
          },
          "metadata": {},
          "execution_count": 534
        }
      ]
    }
  ]
}